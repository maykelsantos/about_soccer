{
 "cells": [
  {
   "cell_type": "markdown",
   "metadata": {},
   "source": [
    "# **ANÁLISE DE DADOS SOBRE FUTEBOL INTERNACIONAL**\n",
    "\n",
    "Este projeto visa realizar uma análise abrangente dos dados de futebol internacional de um dataset encontrado no Kaggle (https://www.kaggle.com/datasets/patateriedata/all-international-football-results). \n",
    "\n",
    "Utilizando dois conjuntos de dados principais, 'all_matches.csv' e 'countries_names.csv', pretendemos explorar padrões temporais, avaliar o desempenho das seleções nacionais, investigar a influência de torneios específicos e criar visualizações para uma representação mais abrangente.\n",
    "\n",
    "O projeto visa proporcionar uma compreensão aprofundada do panorama do futebol internacional, identificando padrões, tendências e fornecendo insights sobre o desempenho das seleções ao longo do tempo e em diferentes contextos de torneios. \n",
    "\n",
    "As visualizações geográficas adicionam uma dimensão espacial, oferecendo uma representação visual das relações entre países no cenário do futebol internacional."
   ]
  },
  {
   "cell_type": "markdown",
   "metadata": {},
   "source": [
    "<hr>\n",
    "\n",
    "## **1.0 - Análise Exploratória de Dados**"
   ]
  },
  {
   "cell_type": "markdown",
   "metadata": {},
   "source": [
    "## 1.1 - Carregando os conjuntos de dados para análise e explorando as primeiras linhas dos dados para entender sua estrutura"
   ]
  },
  {
   "cell_type": "code",
   "execution_count": 2,
   "metadata": {},
   "outputs": [
    {
     "data": {
      "text/html": [
       "<div>\n",
       "<style scoped>\n",
       "    .dataframe tbody tr th:only-of-type {\n",
       "        vertical-align: middle;\n",
       "    }\n",
       "\n",
       "    .dataframe tbody tr th {\n",
       "        vertical-align: top;\n",
       "    }\n",
       "\n",
       "    .dataframe thead th {\n",
       "        text-align: right;\n",
       "    }\n",
       "</style>\n",
       "<table border=\"1\" class=\"dataframe\">\n",
       "  <thead>\n",
       "    <tr style=\"text-align: right;\">\n",
       "      <th></th>\n",
       "      <th>date</th>\n",
       "      <th>home_team</th>\n",
       "      <th>away_team</th>\n",
       "      <th>home_score</th>\n",
       "      <th>away_score</th>\n",
       "      <th>tournament</th>\n",
       "      <th>country</th>\n",
       "      <th>neutral</th>\n",
       "    </tr>\n",
       "  </thead>\n",
       "  <tbody>\n",
       "    <tr>\n",
       "      <th>0</th>\n",
       "      <td>1872-11-30</td>\n",
       "      <td>Scotland</td>\n",
       "      <td>England</td>\n",
       "      <td>0</td>\n",
       "      <td>0</td>\n",
       "      <td>Friendly</td>\n",
       "      <td>Scotland</td>\n",
       "      <td>False</td>\n",
       "    </tr>\n",
       "    <tr>\n",
       "      <th>1</th>\n",
       "      <td>1873-03-08</td>\n",
       "      <td>England</td>\n",
       "      <td>Scotland</td>\n",
       "      <td>4</td>\n",
       "      <td>2</td>\n",
       "      <td>Friendly</td>\n",
       "      <td>England</td>\n",
       "      <td>False</td>\n",
       "    </tr>\n",
       "    <tr>\n",
       "      <th>2</th>\n",
       "      <td>1874-03-07</td>\n",
       "      <td>Scotland</td>\n",
       "      <td>England</td>\n",
       "      <td>2</td>\n",
       "      <td>1</td>\n",
       "      <td>Friendly</td>\n",
       "      <td>Scotland</td>\n",
       "      <td>False</td>\n",
       "    </tr>\n",
       "    <tr>\n",
       "      <th>3</th>\n",
       "      <td>1875-03-06</td>\n",
       "      <td>England</td>\n",
       "      <td>Scotland</td>\n",
       "      <td>2</td>\n",
       "      <td>2</td>\n",
       "      <td>Friendly</td>\n",
       "      <td>England</td>\n",
       "      <td>False</td>\n",
       "    </tr>\n",
       "    <tr>\n",
       "      <th>4</th>\n",
       "      <td>1876-03-04</td>\n",
       "      <td>Scotland</td>\n",
       "      <td>England</td>\n",
       "      <td>3</td>\n",
       "      <td>0</td>\n",
       "      <td>Friendly</td>\n",
       "      <td>Scotland</td>\n",
       "      <td>False</td>\n",
       "    </tr>\n",
       "    <tr>\n",
       "      <th>...</th>\n",
       "      <td>...</td>\n",
       "      <td>...</td>\n",
       "      <td>...</td>\n",
       "      <td>...</td>\n",
       "      <td>...</td>\n",
       "      <td>...</td>\n",
       "      <td>...</td>\n",
       "      <td>...</td>\n",
       "    </tr>\n",
       "    <tr>\n",
       "      <th>48976</th>\n",
       "      <td>2024-01-15</td>\n",
       "      <td>Jordan</td>\n",
       "      <td>Malaysia</td>\n",
       "      <td>4</td>\n",
       "      <td>0</td>\n",
       "      <td>Asian Cup</td>\n",
       "      <td>Qatar</td>\n",
       "      <td>True</td>\n",
       "    </tr>\n",
       "    <tr>\n",
       "      <th>48977</th>\n",
       "      <td>2024-01-15</td>\n",
       "      <td>Cameroon</td>\n",
       "      <td>Guinea</td>\n",
       "      <td>1</td>\n",
       "      <td>1</td>\n",
       "      <td>African Nations Cup</td>\n",
       "      <td>Ivory Coast</td>\n",
       "      <td>True</td>\n",
       "    </tr>\n",
       "    <tr>\n",
       "      <th>48978</th>\n",
       "      <td>2024-01-15</td>\n",
       "      <td>Algeria</td>\n",
       "      <td>Angola</td>\n",
       "      <td>1</td>\n",
       "      <td>1</td>\n",
       "      <td>African Nations Cup</td>\n",
       "      <td>Ivory Coast</td>\n",
       "      <td>True</td>\n",
       "    </tr>\n",
       "    <tr>\n",
       "      <th>48979</th>\n",
       "      <td>2024-01-16</td>\n",
       "      <td>Thailand</td>\n",
       "      <td>Kyrgyzstan</td>\n",
       "      <td>2</td>\n",
       "      <td>0</td>\n",
       "      <td>Asian Cup</td>\n",
       "      <td>Qatar</td>\n",
       "      <td>True</td>\n",
       "    </tr>\n",
       "    <tr>\n",
       "      <th>48980</th>\n",
       "      <td>2024-01-16</td>\n",
       "      <td>Burkina Faso</td>\n",
       "      <td>Mauritania</td>\n",
       "      <td>1</td>\n",
       "      <td>0</td>\n",
       "      <td>African Nations Cup</td>\n",
       "      <td>Ivory Coast</td>\n",
       "      <td>True</td>\n",
       "    </tr>\n",
       "  </tbody>\n",
       "</table>\n",
       "<p>48981 rows × 8 columns</p>\n",
       "</div>"
      ],
      "text/plain": [
       "             date     home_team   away_team  home_score  away_score  \\\n",
       "0      1872-11-30      Scotland     England           0           0   \n",
       "1      1873-03-08       England    Scotland           4           2   \n",
       "2      1874-03-07      Scotland     England           2           1   \n",
       "3      1875-03-06       England    Scotland           2           2   \n",
       "4      1876-03-04      Scotland     England           3           0   \n",
       "...           ...           ...         ...         ...         ...   \n",
       "48976  2024-01-15        Jordan    Malaysia           4           0   \n",
       "48977  2024-01-15      Cameroon      Guinea           1           1   \n",
       "48978  2024-01-15       Algeria      Angola           1           1   \n",
       "48979  2024-01-16      Thailand  Kyrgyzstan           2           0   \n",
       "48980  2024-01-16  Burkina Faso  Mauritania           1           0   \n",
       "\n",
       "                tournament      country  neutral  \n",
       "0                 Friendly     Scotland    False  \n",
       "1                 Friendly      England    False  \n",
       "2                 Friendly     Scotland    False  \n",
       "3                 Friendly      England    False  \n",
       "4                 Friendly     Scotland    False  \n",
       "...                    ...          ...      ...  \n",
       "48976            Asian Cup        Qatar     True  \n",
       "48977  African Nations Cup  Ivory Coast     True  \n",
       "48978  African Nations Cup  Ivory Coast     True  \n",
       "48979            Asian Cup        Qatar     True  \n",
       "48980  African Nations Cup  Ivory Coast     True  \n",
       "\n",
       "[48981 rows x 8 columns]"
      ]
     },
     "metadata": {},
     "output_type": "display_data"
    },
    {
     "data": {
      "text/html": [
       "<div>\n",
       "<style scoped>\n",
       "    .dataframe tbody tr th:only-of-type {\n",
       "        vertical-align: middle;\n",
       "    }\n",
       "\n",
       "    .dataframe tbody tr th {\n",
       "        vertical-align: top;\n",
       "    }\n",
       "\n",
       "    .dataframe thead th {\n",
       "        text-align: right;\n",
       "    }\n",
       "</style>\n",
       "<table border=\"1\" class=\"dataframe\">\n",
       "  <thead>\n",
       "    <tr style=\"text-align: right;\">\n",
       "      <th></th>\n",
       "      <th>original_name</th>\n",
       "      <th>current_name</th>\n",
       "    </tr>\n",
       "  </thead>\n",
       "  <tbody>\n",
       "    <tr>\n",
       "      <th>0</th>\n",
       "      <td>Afghanistan</td>\n",
       "      <td>Afghanistan</td>\n",
       "    </tr>\n",
       "    <tr>\n",
       "      <th>1</th>\n",
       "      <td>Albania</td>\n",
       "      <td>Albania</td>\n",
       "    </tr>\n",
       "    <tr>\n",
       "      <th>2</th>\n",
       "      <td>Algeria</td>\n",
       "      <td>Algeria</td>\n",
       "    </tr>\n",
       "    <tr>\n",
       "      <th>3</th>\n",
       "      <td>Andorra</td>\n",
       "      <td>Andorra</td>\n",
       "    </tr>\n",
       "    <tr>\n",
       "      <th>4</th>\n",
       "      <td>Angola</td>\n",
       "      <td>Angola</td>\n",
       "    </tr>\n",
       "    <tr>\n",
       "      <th>...</th>\n",
       "      <td>...</td>\n",
       "      <td>...</td>\n",
       "    </tr>\n",
       "    <tr>\n",
       "      <th>284</th>\n",
       "      <td>Northern Rhodesia</td>\n",
       "      <td>Zambia</td>\n",
       "    </tr>\n",
       "    <tr>\n",
       "      <th>285</th>\n",
       "      <td>Zanzibar</td>\n",
       "      <td>Zanzibar</td>\n",
       "    </tr>\n",
       "    <tr>\n",
       "      <th>286</th>\n",
       "      <td>Southern Rhodesia</td>\n",
       "      <td>Zimbabwe</td>\n",
       "    </tr>\n",
       "    <tr>\n",
       "      <th>287</th>\n",
       "      <td>Zimbabwe</td>\n",
       "      <td>Zimbabwe</td>\n",
       "    </tr>\n",
       "    <tr>\n",
       "      <th>288</th>\n",
       "      <td>Rhodesia</td>\n",
       "      <td>Zimbabwe</td>\n",
       "    </tr>\n",
       "  </tbody>\n",
       "</table>\n",
       "<p>289 rows × 2 columns</p>\n",
       "</div>"
      ],
      "text/plain": [
       "         original_name current_name\n",
       "0          Afghanistan  Afghanistan\n",
       "1              Albania      Albania\n",
       "2              Algeria      Algeria\n",
       "3              Andorra      Andorra\n",
       "4               Angola       Angola\n",
       "..                 ...          ...\n",
       "284  Northern Rhodesia       Zambia\n",
       "285           Zanzibar     Zanzibar\n",
       "286  Southern Rhodesia     Zimbabwe\n",
       "287           Zimbabwe     Zimbabwe\n",
       "288           Rhodesia     Zimbabwe\n",
       "\n",
       "[289 rows x 2 columns]"
      ]
     },
     "metadata": {},
     "output_type": "display_data"
    }
   ],
   "source": [
    "import pandas as pd\n",
    "\n",
    "all_matches = pd.read_csv('./dataset/all_matches.csv')\n",
    "countries_names = pd.read_csv('./dataset/countries_names.csv')\n",
    "\n",
    "display(all_matches, countries_names)"
   ]
  },
  {
   "cell_type": "markdown",
   "metadata": {},
   "source": [
    "## 1.2 - Verificação de valores ausentes e duplicados"
   ]
  },
  {
   "cell_type": "code",
   "execution_count": 3,
   "metadata": {},
   "outputs": [
    {
     "name": "stdout",
     "output_type": "stream",
     "text": [
      "date          0\n",
      "home_team     0\n",
      "away_team     0\n",
      "home_score    0\n",
      "away_score    0\n",
      "tournament    0\n",
      "country       0\n",
      "neutral       0\n",
      "dtype: int64\n",
      "original_name    0\n",
      "current_name     0\n",
      "dtype: int64\n"
     ]
    }
   ],
   "source": [
    "# Verificando valores ausentes\n",
    "\n",
    "print(all_matches.isnull().sum())\n",
    "print(countries_names.isnull().sum())"
   ]
  },
  {
   "cell_type": "code",
   "execution_count": 4,
   "metadata": {},
   "outputs": [
    {
     "name": "stdout",
     "output_type": "stream",
     "text": [
      "0\n",
      "0\n"
     ]
    }
   ],
   "source": [
    "# Verificando duplicatas\n",
    "\n",
    "print(all_matches.duplicated().sum())\n",
    "print(countries_names.duplicated().sum())"
   ]
  },
  {
   "cell_type": "markdown",
   "metadata": {},
   "source": [
    "## 1.3 - Calculando estatísticas descritivas básicas de acordo com o placar dos jogos"
   ]
  },
  {
   "cell_type": "code",
   "execution_count": 5,
   "metadata": {},
   "outputs": [
    {
     "name": "stdout",
     "output_type": "stream",
     "text": [
      "         home_score    away_score\n",
      "count  48981.000000  48981.000000\n",
      "mean       1.943631      0.989506\n",
      "std        1.825131      1.203037\n",
      "min        0.000000      0.000000\n",
      "25%        1.000000      0.000000\n",
      "50%        2.000000      1.000000\n",
      "75%        3.000000      1.000000\n",
      "max       31.000000     15.000000\n",
      "A MÉDIA de gols do time da casa é de 1.94 gols\n",
      "A MÉDIA de gols do time visitante é de 0.99 gols\n",
      "A MEDIANA de gols do time da casa é de 2.00 gols\n",
      "A MEDIANA de gols do time visitante é de 1.00 gols\n",
      "A MODA de gols do time da casa é de 1.00 gols\n",
      "A MODA de gols do time visitante é de 0.00 gols\n",
      "A VARIÂNCIA de gols do time da casa é de 3.33 gols\n",
      "A VARIÂNCIA de gols do time visitante é de 1.45 gols\n",
      "O DESVIO PADRÃO de gols do time da casa é de 1.83 gols\n",
      "O DESVIO PADRÃO de gols do time visitante é de 1.20 gols\n",
      "Os QUARTIS de gols do time da casa é de: 1ºQ 1.00 gols, 2ºQ 2.00 gols e 3ºQ 3.00 gols\n",
      "Os QUARTIS de gols do time visitante é de: 1ºQ 0.00 gols, 2ºQ 1.00 gols e 3ºQ 1.00 gols\n"
     ]
    }
   ],
   "source": [
    "# Análise generalista do dataset\n",
    "\n",
    "print(all_matches.describe())\n",
    "\n",
    "# Análise individual (coluna) do dataset\n",
    "\n",
    "print('A MÉDIA de gols do time da casa é de {:.2f} gols'.format(all_matches['home_score'].mean()))\n",
    "print('A MÉDIA de gols do time visitante é de {:.2f} gols'.format(all_matches['away_score'].mean()))\n",
    "print('A MEDIANA de gols do time da casa é de {:.2f} gols'.format(all_matches['home_score'].median()))\n",
    "print('A MEDIANA de gols do time visitante é de {:.2f} gols'.format(all_matches['away_score'].median()))\n",
    "print('A MODA de gols do time da casa é de {:.2f} gols'.format(all_matches['home_score'].mode().tolist()[0])) # A função 'mode()' retorna uma Série, e pode haver mais de uma moda se houver empate\n",
    "print('A MODA de gols do time visitante é de {:.2f} gols'.format(all_matches['away_score'].mode().tolist()[0])) # A função 'mode()' retorna uma Série, e pode haver mais de uma moda se houver empate\n",
    "print('A VARIÂNCIA de gols do time da casa é de {:.2f} gols'.format(all_matches['home_score'].var()))\n",
    "print('A VARIÂNCIA de gols do time visitante é de {:.2f} gols'.format(all_matches['away_score'].var()))\n",
    "print('O DESVIO PADRÃO de gols do time da casa é de {:.2f} gols'.format(all_matches['home_score'].std()))\n",
    "print('O DESVIO PADRÃO de gols do time visitante é de {:.2f} gols'.format(all_matches['away_score'].std()))\n",
    "print('Os QUARTIS de gols do time da casa é de: 1ºQ {:.2f} gols, 2ºQ {:.2f} gols e 3ºQ {:.2f} gols'.format(all_matches['home_score'].quantile(0.25), all_matches['home_score'].quantile(0.5), all_matches['home_score'].quantile(0.75)))\n",
    "print('Os QUARTIS de gols do time visitante é de: 1ºQ {:.2f} gols, 2ºQ {:.2f} gols e 3ºQ {:.2f} gols'.format(all_matches['away_score'].quantile(0.25), all_matches['away_score'].quantile(0.5), all_matches['away_score'].quantile(0.75)))"
   ]
  },
  {
   "cell_type": "markdown",
   "metadata": {},
   "source": [
    "## 1.4 - Visualizando a distribuição dos gols dos jogos usando gráficos de barras, histogramas ou boxplots"
   ]
  },
  {
   "cell_type": "code",
   "execution_count": 15,
   "metadata": {},
   "outputs": [],
   "source": [
    "import matplotlib.pyplot as plt"
   ]
  },
  {
   "cell_type": "code",
   "execution_count": 39,
   "metadata": {},
   "outputs": [
    {
     "data": {
      "image/png": "[encoded data removed]",
      "text/plain": [
       "<Figure size 640x480 with 1 Axes>"
      ]
     },
     "metadata": {},
     "output_type": "display_data"
    }
   ],
   "source": [
    "# Média de gols entre time da casa e time visitante\n",
    "\n",
    "media_time_casa = all_matches['home_score'].mean()\n",
    "media_time_visitante = all_matches['away_score'].mean()\n",
    "\n",
    "plt.bar(all_matches.columns[3], media_time_casa)\n",
    "plt.bar(all_matches.columns[4], media_time_visitante)\n",
    "plt.text(all_matches.columns[3], media_time_casa, '{:.2f}'.format(media_time_casa), ha='center', va='bottom')\n",
    "plt.text(all_matches.columns[4], media_time_visitante, '{:.2f}'.format(media_time_visitante), ha='center', va='bottom')\n",
    "plt.title('Média de Gols dos Times')\n",
    "\n",
    "plt.show()"
   ]
  },
  {
   "cell_type": "code",
   "execution_count": 40,
   "metadata": {},
   "outputs": [
    {
     "data": {
      "image/png": "[encoded data removed]",
      "text/plain": [
       "<Figure size 640x480 with 1 Axes>"
      ]
     },
     "metadata": {},
     "output_type": "display_data"
    }
   ],
   "source": [
    "# Mediana de gols entre time da casa e time visitante\n",
    "\n",
    "mediana_time_casa = all_matches['home_score'].median()\n",
    "mediana_time_visitante = all_matches['away_score'].median()\n",
    "\n",
    "plt.bar(all_matches.columns[3], mediana_time_casa)\n",
    "plt.bar(all_matches.columns[4], mediana_time_visitante)\n",
    "plt.text(all_matches.columns[3], mediana_time_casa, '{:.2f}'.format(mediana_time_casa), ha='center', va='bottom')\n",
    "plt.text(all_matches.columns[4], mediana_time_visitante, '{:.2f}'.format(mediana_time_visitante), ha='center', va='bottom')\n",
    "plt.xlabel('Times')\n",
    "plt.ylabel('Mediana de Gols')\n",
    "\n",
    "plt.show()"
   ]
  },
  {
   "cell_type": "code",
   "execution_count": 41,
   "metadata": {},
   "outputs": [
    {
     "data": {
      "image/png": "[encoded data removed]",
      "text/plain": [
       "<Figure size 640x480 with 1 Axes>"
      ]
     },
     "metadata": {},
     "output_type": "display_data"
    }
   ],
   "source": [
    "# Variância de gols entre time da casa e time visitante\n",
    "\n",
    "variancia_time_casa = all_matches['home_score'].var()\n",
    "variancia_time_visitante = all_matches['away_score'].var()\n",
    "\n",
    "plt.bar(all_matches.columns[3], variancia_time_casa)\n",
    "plt.bar(all_matches.columns[4], variancia_time_visitante)\n",
    "plt.text(all_matches.columns[3], variancia_time_casa, '{:.2f}'.format(variancia_time_casa), ha='center', va='bottom')\n",
    "plt.text(all_matches.columns[4], variancia_time_visitante, '{:.2f}'.format(variancia_time_visitante), ha='center', va='bottom')\n",
    "plt.xlabel('Times')\n",
    "plt.ylabel('Variância de Gols')\n",
    "\n",
    "plt.show()"
   ]
  },
  {
   "cell_type": "code",
   "execution_count": 46,
   "metadata": {},
   "outputs": [
    {
     "name": "stderr",
     "output_type": "stream",
     "text": [
      "No artists with labels found to put in legend.  Note that artists whose label start with an underscore are ignored when legend() is called with no argument.\n"
     ]
    },
    {
     "data": {
      "image/png": "[encoded data removed]",
      "text/plain": [
       "<Figure size 640x480 with 1 Axes>"
      ]
     },
     "metadata": {},
     "output_type": "display_data"
    }
   ],
   "source": [
    "# Quartis de gols entre time de casa e time visitante\n",
    "\n",
    "q1_time_casa = all_matches['home_score'].quantile(0.25)\n",
    "q2_time_casa = all_matches['home_score'].quantile(0.5)\n",
    "q3_time_casa = all_matches['home_score'].quantile(0.75)\n",
    "\n",
    "q1_time_visitante = all_matches['away_score'].quantile(0.25)\n",
    "q2_time_visitante = all_matches['away_score'].quantile(0.5)\n",
    "q3_time_visitante = all_matches['away_score'].quantile(0.75)\n",
    "\n",
    "plt.plot(all_matches.columns[3], q1_time_casa)\n",
    "plt.plot(all_matches.columns[4], q1_time_visitante)\n",
    "plt.plot(all_matches.columns[3], q2_time_casa)\n",
    "plt.plot(all_matches.columns[4], q1_time_visitante)\n",
    "plt.plot(all_matches.columns[3], q3_time_casa)\n",
    "plt.plot(all_matches.columns[4], q3_time_visitante)\n",
    "plt.legend()\n",
    "\n",
    "plt.show()\n",
    "\n"
   ]
  }
 ],
 "metadata": {
  "kernelspec": {
   "display_name": "venv",
   "language": "python",
   "name": "python3"
  },
  "language_info": {
   "codemirror_mode": {
    "name": "ipython",
    "version": 3
   },
   "file_extension": ".py",
   "mimetype": "text/x-python",
   "name": "python",
   "nbconvert_exporter": "python",
   "pygments_lexer": "ipython3",
   "version": "3.12.0"
  }
 },
 "nbformat": 4,
 "nbformat_minor": 2
}
